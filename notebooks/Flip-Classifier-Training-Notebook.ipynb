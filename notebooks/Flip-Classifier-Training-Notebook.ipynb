{
 "cells": [
  {
   "cell_type": "markdown",
   "metadata": {
    "toc": true
   },
   "source": [
    "<h1>Table of Contents<span class=\"tocSkip\"></span></h1>\n",
    "<div class=\"toc\"><ul class=\"toc-item\"><li><span><a href=\"#Label-the-Rodent's-Orientations-Within-Frame-Ranges\" data-toc-modified-id=\"Label-the-Rodent's-Orientations-Within-Frame-Ranges-1\"><span class=\"toc-item-num\">1&nbsp;&nbsp;</span>Label the Rodent's Orientations Within Frame Ranges</a></span></li><li><span><a href=\"#Prepare-Train-Validation-Datasets\" data-toc-modified-id=\"Prepare-Train-Validation-Datasets-2\"><span class=\"toc-item-num\">2&nbsp;&nbsp;</span>Prepare Train-Validation Datasets</a></span></li><li><span><a href=\"#Fit-or-Evaluate-the-Flip-Classifier-Model\" data-toc-modified-id=\"Fit-or-Evaluate-the-Flip-Classifier-Model-3\"><span class=\"toc-item-num\">3&nbsp;&nbsp;</span>Fit or Evaluate the Flip Classifier Model</a></span></li><li><span><a href=\"#Correct-Extracted-Dataset-Using-Train-Flip-Classifier-Model\" data-toc-modified-id=\"Correct-Extracted-Dataset-Using-Train-Flip-Classifier-Model-4\"><span class=\"toc-item-num\">4&nbsp;&nbsp;</span>Correct Extracted Dataset Using Train Flip Classifier Model</a></span><ul class=\"toc-item\"><li><span><a href=\"#Apply-a-flip-classifier-to-correct-the-extracted-dataset\" data-toc-modified-id=\"Apply-a-flip-classifier-to-correct-the-extracted-dataset-4.1\"><span class=\"toc-item-num\">4.1&nbsp;&nbsp;</span>Apply a flip classifier to correct the extracted dataset</a></span></li><li><span><a href=\"#Preview-Corrected-Sessions\" data-toc-modified-id=\"Preview-Corrected-Sessions-4.2\"><span class=\"toc-item-num\">4.2&nbsp;&nbsp;</span>Preview Corrected Sessions</a></span></li></ul></li></ul></div>"
   ]
  },
  {
   "cell_type": "markdown",
   "metadata": {},
   "source": [
    "Flip classifiers are machine learning models that MoSeq2-Extract uses to ensure that the mouse is always extracted with the mouse's nose pointing to the right and tail to the left. This notebook is a streamlined utility and guide for preparing data and training a model that handles your specific data acquisition use case.\n",
    "\n",
    "To use this notebook, you must first extract some data using MoSeq2-Extract to use as training data for the flip classifier model. 100K frames are optimal for training the flip classifier. \n",
    "\n",
    "This can be an iterative process if your data contains large amounts of flips throughout the extractions. On your first iteration, it is acceptable to extract the data without a flip-classifier. After training a new flip classifier, you may apply it to your dataset to correct the flips without having to re-extract the data before going into the PCA step.\n",
    "\n",
    "# Set up the project structure\n",
    "\n",
    "This initializes a Moseq project if it has not been created, else it uses an existing progress file.\n",
    "\n",
    "Instructions:\n",
    "- Run the cells\n",
    "- Feel free to change the path names as needed"
   ]
  },
  {
   "cell_type": "code",
   "execution_count": null,
   "metadata": {
    "scrolled": false
   },
   "outputs": [],
   "source": [
    "from os.path import join\n",
    "from moseq2_app.gui.progress import check_progress, restore_progress_vars\n",
    "from pathlib import Path\n",
    "from moseq2_app.flip.train import CleanParameters, create_training_dataset, train_classifier, save_classifier \n",
    "from moseq2_app.flip.widget import FlipClassifierWidget, DisplayWidget\n",
    "from dataclasses import fields\n",
    "import os\n",
    "import yaml\n",
    "import panel as pn\n",
    "\n",
    "base_dir = './'\n",
    "progress_filepath = join(base_dir, 'progress.yaml')\n",
    "\n",
    "progress_paths = restore_progress_vars(progress_filepath, init=True, overwrite=False)\n",
    "check_progress(progress_filepath)"
   ]
  },
  {
   "cell_type": "code",
   "execution_count": null,
   "metadata": {},
   "outputs": [],
   "source": [
    "pn.extension()"
   ]
  },
  {
   "cell_type": "markdown",
   "metadata": {},
   "source": [
    "# Labeling frames\n",
    "**Instructions:**\n",
    "- **Run the following cell** to launch the Data Labeller GUI.\n",
    "\n",
    "- **Select the target session from the dropdown menu** and start labeling.\n",
    "\n",
    "- **Drag the slider** to select a frame index to preview.\n",
    "\n",
    "- **Click `Start Range`** to start selecting the range.\n",
    "  - **Drag the slider** to the end of the range.\n",
    "  - **Click `Facing Left` or `Facing Right`** to specify the correct orientation for the range of frames.\n",
    "  - After specifying the orientation, the selected frames will be added to the dataset used to train the model.\n",
    "\n",
    "- **Click `Cancel Select`** to cancel the selection.\n",
    "\n",
    "**Note**: The `Current Total Selected` section turns green when there are enough labeled frames to train the model.\n",
    "\n",
    "If your frame selection was interrupted for any reason, and you would like to relaunch the tool with all of your previously selected frame ranges, run the cell again. Feel free to change the flip_path name."
   ]
  },
  {
   "cell_type": "code",
   "execution_count": null,
   "metadata": {},
   "outputs": [],
   "source": [
    "flip_path = \"flip_classifier\"\n",
    "FF = FlipClassifierWidget(data_path=progress_paths['base_dir'], flip_path=flip_path)\n",
    "FF.show()"
   ]
  },
  {
   "cell_type": "markdown",
   "metadata": {},
   "source": [
    "# Train the model on the labeled frames\n",
    "\n",
    "Here, we train a machine learning model on these labeled frames. We can use a Random Forest Classifier or Support Vector Machine. The model learns to identify the correct orientation of the mouse, and can be used for future steps of the MoSeq extraction pipeline. \n",
    "\n",
    "**Instructions**\n",
    "- Run the following cells! \n",
    "- The two options for classifier are \"svm\" or \"rf\". Note that each of the model training has the following parameters:\n",
    "\n",
    "### Random Forest:\n",
    "rf_n_estimators (int): Number of trees in random forest.\n",
    "rf_max_depth (int): Maximum depth of the tree.\n",
    "rf_min_samples_split (int): Minimum samples required to split an internal node.\n",
    "rf_min_samples_leaf (int): Minimum samples required to be at a leaf node.\n",
    "rf_max_features (Union[str, int, float]): Number of features to consider for best split.\n",
    "\n",
    "### SVM:\n",
    "svm_C (float): Regularization parameter.\n",
    "svm_kernel (str): Kernel type to be used in the algorithm.\n",
    "svm_gamma (str or float): Kernel coefficient for 'rbf', 'poly' and 'sigmoid'.\n",
    "svm_class_weight (dict or string): Class weights.\n",
    "\n",
    "### Cross-Validation Splits:\n",
    "cv_splits (int): Number of folds for cross-validation.\n",
    "        "
   ]
  },
  {
   "cell_type": "code",
   "execution_count": null,
   "metadata": {},
   "outputs": [],
   "source": [
    "def initialize_clean_params(config_file):\n",
    "    with open(config_file, 'r') as f:\n",
    "        config_data = yaml.safe_load(f)\n",
    "    params = {key: config_data[key] for key in config_data if key in {f.name for f in fields(CleanParameters)}}\n",
    "    return CleanParameters(**params)\n",
    "\n",
    "training_data_path = FF.train_file\n",
    "CleanParameters = initialize_clean_params(progress_paths['config_file'])\n",
    "\n",
    "dataset_path, validation_range = create_training_dataset(\n",
    "    data_index_path=training_data_path,\n",
    "    clean_parameters=CleanParameters,\n",
    "    validation_size=0.1\n",
    ")"
   ]
  },
  {
   "cell_type": "code",
   "execution_count": null,
   "metadata": {},
   "outputs": [],
   "source": [
    "dataset_path = Path(dataset_path)\n",
    "classifier = \"svm\" # or rf\n",
    "model_name = \"flip_classifier.pkl\"\n",
    "clf = train_classifier(\n",
    "    data_path=dataset_path, \n",
    "    classifier=classifier.upper()\n",
    ")"
   ]
  },
  {
   "cell_type": "code",
   "execution_count": null,
   "metadata": {},
   "outputs": [],
   "source": [
    "save_path = os.path.join(FF.model_path, model_name)\n",
    "save_classifier(clf, save_path)"
   ]
  },
  {
   "cell_type": "markdown",
   "metadata": {},
   "source": [
    "# Display the results!\n",
    "This cell displays the application of the trained model to the validation range (the portion of the data the model was not trained on). Depending on the results, you can refine the model or train more data.\n",
    "**Instructions:**\n",
    "- **Run the following cell** to display the results of your model."
   ]
  },
  {
   "cell_type": "code",
   "execution_count": null,
   "metadata": {},
   "outputs": [],
   "source": [
    "validation_widget = DisplayWidget(\n",
    "    data_path=progress_paths['base_dir'],\n",
    "    classifier_path=save_path,\n",
    "    validation_ranges_path=validation_range\n",
    ")"
   ]
  },
  {
   "cell_type": "markdown",
   "metadata": {},
   "source": [
    "***"
   ]
  }
 ],
 "metadata": {
  "anaconda-cloud": {},
  "kernelspec": {
   "display_name": "Python 3",
   "language": "python",
   "name": "python3"
  },
  "language_info": {
   "codemirror_mode": {
    "name": "ipython",
    "version": 3
   },
   "file_extension": ".py",
   "mimetype": "text/x-python",
   "name": "python",
   "nbconvert_exporter": "python",
   "pygments_lexer": "ipython3",
   "version": "3.7.12"
  },
  "pycharm": {
   "stem_cell": {
    "cell_type": "raw",
    "metadata": {
     "collapsed": false
    },
    "source": []
   }
  },
  "toc": {
   "base_numbering": 1,
   "nav_menu": {},
   "number_sections": true,
   "sideBar": true,
   "skip_h1_title": true,
   "title_cell": "Table of Contents",
   "title_sidebar": "Contents",
   "toc_cell": true,
   "toc_position": {},
   "toc_section_display": true,
   "toc_window_display": false
  },
  "varInspector": {
   "cols": {
    "lenName": 16,
    "lenType": 16,
    "lenVar": 40
   },
   "kernels_config": {
    "python": {
     "delete_cmd_postfix": "",
     "delete_cmd_prefix": "del ",
     "library": "var_list.py",
     "varRefreshCmd": "print(var_dic_list())"
    },
    "r": {
     "delete_cmd_postfix": ") ",
     "delete_cmd_prefix": "rm(",
     "library": "var_list.r",
     "varRefreshCmd": "cat(var_dic_list()) "
    }
   },
   "types_to_exclude": [
    "module",
    "function",
    "builtin_function_or_method",
    "instance",
    "_Feature"
   ],
   "window_display": false
  }
 },
 "nbformat": 4,
 "nbformat_minor": 1
}
